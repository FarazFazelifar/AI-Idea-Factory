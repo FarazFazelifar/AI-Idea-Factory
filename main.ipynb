{
 "cells": [
  {
   "cell_type": "markdown",
   "metadata": {},
   "source": [
    "# <a id='toc1_'></a>[The AI Idea Factory](#toc0_)\n",
    "For my very first project in this year-long challenge, I'm gonna be creating a creative idea assitant. It will help me keep up with recent trends and also keep every new idea fresh!\n",
    "Let's see how I've built it!"
   ]
  },
  {
   "cell_type": "markdown",
   "metadata": {},
   "source": [
    "**Table of contents**<a id='toc0_'></a>    \n",
    "- [The AI Idea Factory](#toc1_)    \n",
    "  - [Step 0: Setting things up](#toc1_1_)    \n",
    "  - [Step 1: Creating the agents](#toc1_2_)    \n",
    "    - [Researcher Agent](#toc1_2_1_)    \n",
    "    - [Creative Director](#toc1_2_2_)    \n",
    "    - [Planner](#toc1_2_3_)    \n",
    "    - [Writer](#toc1_2_4_)    \n",
    "    - [Content Reviewer](#toc1_2_5_)    \n",
    "    - [Project Manager](#toc1_2_6_)    \n",
    "  - [Step 2: Tasks](#toc1_3_)    \n",
    "    - [Research Task](#toc1_3_1_)    \n",
    "    - [Ideation Task](#toc1_3_2_)    \n",
    "    - [Planning Task](#toc1_3_3_)    \n",
    "    - [Instruction Writng Task](#toc1_3_4_)    \n",
    "    - [Blog Post Writing Task](#toc1_3_5_)    \n",
    "    - [Blog Post Review Task](#toc1_3_6_)    \n",
    "    - [Blog Post Finalization Task](#toc1_3_7_)    \n",
    "    - [Project Management Task](#toc1_3_8_)    \n",
    "  - [Crew](#toc1_4_)    \n",
    "\n",
    "<!-- vscode-jupyter-toc-config\n",
    "\tnumbering=false\n",
    "\tanchor=true\n",
    "\tflat=false\n",
    "\tminLevel=1\n",
    "\tmaxLevel=6\n",
    "\t/vscode-jupyter-toc-config -->\n",
    "<!-- THIS CELL WILL BE REPLACED ON TOC UPDATE. DO NOT WRITE YOUR TEXT IN THIS CELL -->"
   ]
  },
  {
   "cell_type": "markdown",
   "metadata": {},
   "source": [
    "## <a id='toc1_1_'></a>[Step 0: Setting things up](#toc0_)\n",
    "In the first stage, we are going to be setting the foundation for this project, including setting up our LLMs, importing packages, writing our own custom tools etc."
   ]
  },
  {
   "cell_type": "code",
   "execution_count": 1,
   "metadata": {},
   "outputs": [],
   "source": [
    "import os\n",
    "from crewai import Agent, Task, Crew, Process\n",
    "from crewai_tools import FileWriterTool\n",
    "from duckduckgo_search import DDGS\n",
    "from langchain.tools import Tool\n",
    "from langchain_openai import ChatOpenAI\n",
    "from dotenv import load_dotenv\n"
   ]
  },
  {
   "cell_type": "code",
   "execution_count": 2,
   "metadata": {},
   "outputs": [],
   "source": [
    "load_dotenv()\n",
    "os.environ[\"OPENAI_API_KEY\"] = \"NA\" # The API key is required, but unused"
   ]
  },
  {
   "cell_type": "markdown",
   "metadata": {},
   "source": [
    "For LLMs, I will be using llama3.1 for text generation and semantic thinking, while mistral will be used for calling tools since it excels at following instructions."
   ]
  },
  {
   "cell_type": "code",
   "execution_count": 3,
   "metadata": {},
   "outputs": [],
   "source": [
    "llama3p1 = ChatOpenAI(\n",
    "    model=\"ollama/llama3.1\", # Use a model that you have pulled\n",
    "    base_url=\"http://localhost:11434/v1\",\n",
    ")\n",
    "mistral = ChatOpenAI(\n",
    "    model=\"mistral\",\n",
    "    base_url=\"http://localhost:11434/v1\",\n",
    ")"
   ]
  },
  {
   "cell_type": "markdown",
   "metadata": {},
   "source": [
    "Here, I have created a DuckDuckGo search tool to give my agents the ability to search the web for new ideas and breakthrough technologies."
   ]
  },
  {
   "cell_type": "code",
   "execution_count": 4,
   "metadata": {},
   "outputs": [],
   "source": [
    "def internet_search(query: str) -> list:\n",
    "    \"\"\"Search Internet for relevant information based on a query. The input should **ONLY** be the query you want to search.\"\"\"\n",
    "    ddgs = DDGS()\n",
    "    results = ddgs.text(keywords=query, region='wt-wt', safesearch='moderate', max_results=5)\n",
    "    return str(results)\n",
    "\n",
    "internet_search_tool = Tool(\n",
    "    name=\"Internet Search\",\n",
    "    func=internet_search,\n",
    "    description=\"Search the internet for relevant information based on a query.\"\n",
    ")"
   ]
  },
  {
   "cell_type": "markdown",
   "metadata": {},
   "source": [
    "Since the agents will have to come up with **new** ideas or suggest upgrades to previous projects, it is only natural to give them access to the all the previous projects that have been done before. I do that by simply reading all the ```.txt``` files in my ideas directory."
   ]
  },
  {
   "cell_type": "code",
   "execution_count": 5,
   "metadata": {},
   "outputs": [],
   "source": [
    "def read_directory(directory):\n",
    "    content_list = []\n",
    "    for filename in os.listdir(directory):\n",
    "        if filename.endswith(\".txt\"):\n",
    "            file_path = os.path.join(directory, filename)\n",
    "            with open(file_path, 'r') as file:\n",
    "                content = file.read()\n",
    "                content_list.append(content)\n",
    "    return content_list\n",
    "\n",
    "all_projects = read_directory('Generated-Blog-Posts/')"
   ]
  },
  {
   "cell_type": "code",
   "execution_count": 6,
   "metadata": {},
   "outputs": [],
   "source": [
    "file_writer_tool = FileWriterTool()"
   ]
  },
  {
   "cell_type": "markdown",
   "metadata": {},
   "source": [
    "## <a id='toc1_2_'></a>[Step 1: Creating the agents](#toc0_)\n",
    "CrewAI has 3 main components: Agents, Tasks and Crews. Think of agents as colligues working together to achieve their final goal, while each person has their own set goals and skills.\n",
    "In this project, we will create 6 Agents.\n"
   ]
  },
  {
   "cell_type": "markdown",
   "metadata": {},
   "source": [
    "### <a id='toc1_2_1_'></a>[Researcher Agent](#toc0_)"
   ]
  },
  {
   "cell_type": "code",
   "execution_count": 7,
   "metadata": {},
   "outputs": [],
   "source": [
    "researcher = Agent(\n",
    "    role='AI Research Specialist',\n",
    "    goal='Discover and summarize cutting-edge AI technologies and advancements',\n",
    "    backstory=\"\"\"You are a top-tier AI research specialist with a passion for staying at the forefront of technological advancements. Your expertise spans multiple domains within AI, and you have a knack for identifying promising new developments.\n",
    "    To effectively research and summarize AI advancements:\n",
    "    1. Start by identifying key areas of AI to focus on (e.g., NLP, computer vision, reinforcement learning).\n",
    "    2. For each area:\n",
    "       a. Search recent publications on arXiv and top AI conferences.\n",
    "       b. Look for announcements from major AI companies and research labs.\n",
    "       c. Analyze the potential impact and novelty of each finding.\n",
    "    3. Synthesize your findings:\n",
    "       a. What are the most significant breakthroughs?\n",
    "       b. How might these advancements be applied to real-world problems?\n",
    "       c. What are the potential implications for future AI development?\n",
    "    4. Organize your research into a clear, concise report.\n",
    "    5. Include citations and links to original sources.\n",
    "\n",
    "    Remember to use a step-by-step approach (Chain of Thought) when analyzing complex information, and continuously reason about your actions and their outcomes (ReAct).\n",
    "    \"\"\",\n",
    "    verbose=True,\n",
    "    allow_delegation=False,\n",
    "    llm=llama3p1,\n",
    "    tools=[internet_search_tool], \n",
    ")"
   ]
  },
  {
   "cell_type": "markdown",
   "metadata": {},
   "source": [
    "### <a id='toc1_2_2_'></a>[Creative Director](#toc0_)"
   ]
  },
  {
   "cell_type": "code",
   "execution_count": 8,
   "metadata": {},
   "outputs": [],
   "source": [
    "creative_director = Agent(\n",
    "    role='AI Innovation Strategist',\n",
    "    goal='Generate innovative and feasible AI project ideas',\n",
    "    backstory=\"\"\"You are a visionary AI strategist with a track record of conceptualizing groundbreaking projects. Your strength lies in identifying unique applications of AI that solve real-world problems.\"\"\",\n",
    "    verbose=True,\n",
    "    allow_delegation=False,\n",
    "    llm=llama3p1,\n",
    "    instructions=f\"\"\"\n",
    "    To create compelling AI project ideas:\n",
    "    1. Review the research findings provided by the AI Research Specialist.\n",
    "    2. Reflect on past projects and identify areas for improvement or expansion.\n",
    "    3. For each potential idea:\n",
    "       a. Consider its novelty and potential impact.\n",
    "       b. Evaluate feasibility given current technology and resources.\n",
    "       c. Think about potential challenges and how they might be overcome.\n",
    "    4. Use lateral thinking to combine different AI technologies in unique ways.\n",
    "    5. Prioritize ideas based on:\n",
    "       a. Alignment with project goals\n",
    "       b. Technical feasibility\n",
    "       c. Potential for innovation\n",
    "    6. Develop a detailed outline for the top idea, including:\n",
    "       a. Project objectives\n",
    "       b. Key technologies involved\n",
    "       c. High-level implementation steps\n",
    "       d. Potential applications and benefits\n",
    "\n",
    "    Employ Chain of Thought reasoning to break down complex problems, and use ReAct to continuously evaluate and refine your ideas.\n",
    "    Remember, the projects shouldn't be too hard and time consuming. Aim for projects that can be done in a week in 10 to 12 hours.\n",
    "    These are tha previous projects that have been done: \n",
    "\n",
    "    {'\\n\\n'.join(all_projects)}\n",
    "    \"\"\"\n",
    ")\n"
   ]
  },
  {
   "cell_type": "markdown",
   "metadata": {},
   "source": [
    "### <a id='toc1_2_3_'></a>[Planner](#toc0_)"
   ]
  },
  {
   "cell_type": "code",
   "execution_count": 9,
   "metadata": {},
   "outputs": [],
   "source": [
    "planner = Agent(\n",
    "    role='AI Project Architect',\n",
    "    goal='Create detailed, actionable project plans for AI initiatives',\n",
    "    backstory=\"\"\"You are an experienced AI project manager with a deep understanding of software development lifecycles and AI implementation challenges. Your plans are known for their clarity and effectiveness.\"\"\",\n",
    "    verbose=True,\n",
    "    allow_delegation=False,\n",
    "    llm=llama3p1,\n",
    "    instructions=\"\"\"\n",
    "    To develop comprehensive project plans:\n",
    "    1. Analyze the project outline provided by the AI Innovation Strategist.\n",
    "    2. Break down the project into main phases (e.g., research, development, testing, deployment).\n",
    "    3. For each phase:\n",
    "       a. Identify key tasks and subtasks.\n",
    "       b. Estimate time and resource requirements.\n",
    "       c. Define clear deliverables and milestones.\n",
    "    4. Consider potential risks and develop mitigation strategies.\n",
    "    5. Create a timeline with dependencies between tasks.\n",
    "    6. Allocate resources effectively, considering skill requirements for each task.\n",
    "    7. Define success criteria and evaluation metrics for the project.\n",
    "    8. Outline a communication and collaboration strategy for the team.\n",
    "\n",
    "    Use Chain of Thought to systematically work through each aspect of the plan, and apply ReAct principles to anticipate and address potential issues proactively.\n",
    "    Remember, the projects should be suitable for a one week time-frame. Aim for 10-12 hours.\n",
    "    \"\"\",\n",
    "    tools=[file_writer_tool]\n",
    ")"
   ]
  },
  {
   "cell_type": "markdown",
   "metadata": {},
   "source": [
    "### <a id='toc1_2_4_'></a>[Writer](#toc0_)"
   ]
  },
  {
   "cell_type": "code",
   "execution_count": 10,
   "metadata": {},
   "outputs": [],
   "source": [
    "writer = Agent(\n",
    "    role='AI Content Specialist',\n",
    "    goal='Craft engaging and informative content about AI projects',\n",
    "    backstory=\"\"\"You are a talented writer with a deep understanding of AI technologies and a gift for explaining complex concepts in accessible language. Your content is known for its clarity and ability to inspire.\"\"\",\n",
    "    verbose=True,\n",
    "    allow_delegation=False,\n",
    "    llm=llama3p1,\n",
    "    instructions=\"\"\"\n",
    "    To create compelling content about AI projects:\n",
    "    1. Review the project plan and key details provided.\n",
    "    2. Identify the core message and unique selling points of the project.\n",
    "    3. Structure your content:\n",
    "       a. Craft an attention-grabbing headline.\n",
    "       b. Write an engaging introduction that highlights the project's significance.\n",
    "       c. Explain the AI technologies involved in simple terms.\n",
    "       d. Describe the potential impact and applications of the project.\n",
    "       e. Include any challenges overcome or innovative approaches used.\n",
    "       f. Conclude with a call to action or future outlook.\n",
    "    4. Use analogies and real-world examples to illustrate complex concepts.\n",
    "    5. Incorporate relevant statistics or data to support key points.\n",
    "    6. Ensure the tone is professional yet accessible to a broad audience.\n",
    "    7. Optimize the content for the specific platform (e.g., LinkedIn post format).\n",
    "\n",
    "    Apply Chain of Thought reasoning to organize your ideas coherently, and use ReAct to continuously refine your writing based on the project's goals and audience expectations.\n",
    "    \"\"\",\n",
    "    tools=[file_writer_tool]\n",
    ")\n"
   ]
  },
  {
   "cell_type": "markdown",
   "metadata": {},
   "source": [
    "### <a id='toc1_2_5_'></a>[Content Reviewer](#toc0_)"
   ]
  },
  {
   "cell_type": "code",
   "execution_count": 11,
   "metadata": {},
   "outputs": [],
   "source": [
    "content_reviewer = Agent(\n",
    "    role='AI Communication Quality Assurer',\n",
    "    goal='Ensure the highest quality and accuracy of AI project communications',\n",
    "    backstory=\"\"\"You are a meticulous editor with extensive knowledge of AI technologies and best practices in technical communication. Your keen eye for detail ensures that all content is clear, accurate, and impactful.\"\"\",\n",
    "    verbose=True,\n",
    "    allow_delegation=False,\n",
    "    llm=llama3p1,\n",
    "    instructions=\"\"\"\n",
    "    To effectively review and enhance AI project content:\n",
    "    1. Carefully read the entire piece of content.\n",
    "    2. Assess the overall structure and flow of information.\n",
    "    3. Verify technical accuracy:\n",
    "       a. Check that AI concepts are correctly explained.\n",
    "       b. Ensure consistency with the original project plan.\n",
    "       c. Verify any statistics or data cited.\n",
    "    4. Evaluate clarity and accessibility:\n",
    "       a. Identify any jargon that needs simplification.\n",
    "       b. Ensure complex ideas are adequately explained.\n",
    "    5. Assess engagement and impact:\n",
    "       a. Verify that the content captures the project's significance.\n",
    "       b. Ensure the tone is appropriate for the target audience.\n",
    "    6. Check for grammar, spelling, and punctuation errors.\n",
    "    7. Provide constructive feedback:\n",
    "       a. Highlight strengths of the content.\n",
    "       b. Suggest specific improvements with explanations.\n",
    "    8. If necessary, request revisions from the writer.\n",
    "\n",
    "    Use Chain of Thought to systematically evaluate each aspect of the content, and apply ReAct principles to provide thoughtful, actionable feedback that improves the overall quality of the communication.\n",
    "    \"\"\"\n",
    ")"
   ]
  },
  {
   "cell_type": "markdown",
   "metadata": {},
   "source": [
    "### <a id='toc1_2_6_'></a>[Project Manager](#toc0_)"
   ]
  },
  {
   "cell_type": "code",
   "execution_count": 12,
   "metadata": {},
   "outputs": [],
   "source": [
    "project_manager = Agent(\n",
    "    role='AI Project Orchestrator',\n",
    "    goal='Ensure smooth execution and coordination of the AI project development process',\n",
    "    backstory=\"\"\"You are a seasoned project manager with a track record of successfully delivering complex AI initiatives. Your strength lies in coordinating diverse teams and ensuring all aspects of a project come together seamlessly.\"\"\",\n",
    "    verbose=True,\n",
    "    allow_delegation=True,\n",
    "    llm=llama3p1,\n",
    "    instructions=\"\"\"\n",
    "    To effectively manage the AI project development process:\n",
    "    1. Familiarize yourself with the overall project goal and the roles of each team member.\n",
    "    2. Establish clear communication channels and protocols for the team.\n",
    "    3. For each phase of the project:\n",
    "       a. Ensure all team members understand their tasks and deadlines.\n",
    "       b. Monitor progress and identify any potential bottlenecks.\n",
    "       c. Facilitate communication between team members as needed.\n",
    "       d. Adjust timelines or resources if necessary to keep the project on track.\n",
    "    4. Regularly update all stakeholders on project status and any significant developments.\n",
    "    5. Anticipate and proactively address potential challenges or conflicts.\n",
    "    6. Ensure that deliverables from each team member meet quality standards and project requirements.\n",
    "    7. Facilitate smooth transitions between different stages of the project (e.g., from planning to writing to review).\n",
    "    8. Conduct a final review to ensure all project objectives have been met before concluding each weekly cycle.\n",
    "\n",
    "    Utilize Chain of Thought reasoning to break down complex project management tasks, and apply ReAct principles to continuously assess and optimize the project's progress and team dynamics.\n",
    "    \"\"\"\n",
    ")"
   ]
  },
  {
   "cell_type": "markdown",
   "metadata": {},
   "source": [
    "## <a id='toc1_3_'></a>[Step 2: Tasks](#toc0_)\n",
    "As said by the official documents of CrewAI, tasks are specific assignments completed by agents. They provide all necessary details for execution, such as a description, the agent responsible, required tools, and more, facilitating a wide range of action complexities.\n",
    "\n",
    "Tasks within crewAI can be collaborative, requiring multiple agents to work together. This is managed through the task properties and orchestrated by the Crew's process, enhancing teamwork and efficiency."
   ]
  },
  {
   "cell_type": "markdown",
   "metadata": {},
   "source": [
    "### <a id='toc1_3_1_'></a>[Research Task](#toc0_)"
   ]
  },
  {
   "cell_type": "code",
   "execution_count": 13,
   "metadata": {},
   "outputs": [],
   "source": [
    "research_task = Task(\n",
    "    expected_output=\"A detailed article on the latest AI advancements and break-through technologies.\",\n",
    "    description=\"\"\"You must use the internet_search_tool to search the web on the most recent AI and generative AI technologies, trends and hot topics.\n",
    "    After you have done that, write an artivle about them with no loss of information containing but not limited to:\n",
    "    how the technology works, its use cases, potential improvements etc.\"\"\",\n",
    "    agent=researcher,\n",
    "    delegations=False\n",
    ")"
   ]
  },
  {
   "cell_type": "markdown",
   "metadata": {},
   "source": [
    "### <a id='toc1_3_2_'></a>[Ideation Task](#toc0_)"
   ]
  },
  {
   "cell_type": "code",
   "execution_count": 14,
   "metadata": {},
   "outputs": [],
   "source": [
    "ideation_task = Task(\n",
    "    expected_output=\"A novel, creative and actionable idea which is about what we have done so far and also about the newest AI tech advancements.\",\n",
    "    description=f\"\"\"Based on the research findings and the context of previous projects, generate an \n",
    "    innovative AI project idea. Create a detailed project outline including:\n",
    "    1. Project title\n",
    "    2. Main objective\n",
    "    3. Key AI technologies to be used\n",
    "    4. Potential real-world applications\n",
    "    5. Brief overview of implementation approach\n",
    "\n",
    "    **Important**: The project should be easily done in one week, so don't complicate it. Aim for 10-12 hours in one week.\n",
    "    \n",
    "    Context: {all_projects}\"\"\",\n",
    "    agent=creative_director,\n",
    "    delegations=False\n",
    ")"
   ]
  },
  {
   "cell_type": "markdown",
   "metadata": {},
   "source": [
    "### <a id='toc1_3_3_'></a>[Planning Task](#toc0_)"
   ]
  },
  {
   "cell_type": "code",
   "execution_count": 15,
   "metadata": {},
   "outputs": [],
   "source": [
    "planning_task = Task(\n",
    "    expected_output=\"A detailed step by step plan on how to achieve the project that the creative director has come up with. Organize The tasks into small, actionable steps.\",\n",
    "    description=\"\"\"Take the project idea and create a detailed implementation plan. Break down the \n",
    "    project into specific steps, estimate time requirements, identify potential challenges, and \n",
    "    suggest solutions. Your plan should be actionable and clear enough for a developer to follow. \n",
    "    **Important**: The project should be easily done in one week, so don't complicate it. Aim for 10-12 hours in one week.\n",
    "    \"\"\",\n",
    "    agent=planner,\n",
    "    delegations=False\n",
    ")"
   ]
  },
  {
   "cell_type": "markdown",
   "metadata": {},
   "source": [
    "### <a id='toc1_3_4_'></a>[Instruction Writng Task](#toc0_)"
   ]
  },
  {
   "cell_type": "code",
   "execution_count": 16,
   "metadata": {},
   "outputs": [],
   "source": [
    "write_instructions_task = Task(\n",
    "    expected_output=\"A text file in the Generated-Planned-Project directory containing an easy to follow guide/project outline based on the steps you have come up with.\",\n",
    "    description=\"\"\"Based on your detailed plan, write clear and concise instructions for implementing \n",
    "    the project. These instructions should guide a developer through the process of building the \n",
    "    project. Save these instructions to a file named 'project_instructions.md' in the 'Generated-Planned-Project' directory.\n",
    "    **Important**: The project should be easily done in one week, so don't complicate it. Aim for 10-12 hours in one week.\n",
    "    \"\"\",\n",
    "    agent=planner,\n",
    "    delegations=False,\n",
    ")"
   ]
  },
  {
   "cell_type": "markdown",
   "metadata": {},
   "source": [
    "### <a id='toc1_3_5_'></a>[Blog Post Writing Task](#toc0_)"
   ]
  },
  {
   "cell_type": "code",
   "execution_count": 17,
   "metadata": {},
   "outputs": [],
   "source": [
    "write_blog_post_task = Task(\n",
    "    expected_output=\"A professional and engaging LinkedIn post.\",\n",
    "    description=\"\"\"Create an engaging blog post about the AI project. The post should include:\n",
    "    1. An attention-grabbing title\n",
    "    2. A brief introduction to the project and its significance\n",
    "    3. An explanation of the AI technologies used\n",
    "    4. The potential impact and applications of the project\n",
    "    5. Any challenges overcome or innovative approaches used\n",
    "    6. A conclusion with future implications or a call to action\n",
    "    7. A good amount of suitable emojis\n",
    "    \n",
    "    Aim for a word count between 500-750 words.\"\"\",\n",
    "    agent=writer,\n",
    "    delegations=False\n",
    ")"
   ]
  },
  {
   "cell_type": "markdown",
   "metadata": {},
   "source": [
    "### <a id='toc1_3_6_'></a>[Blog Post Review Task](#toc0_)"
   ]
  },
  {
   "cell_type": "code",
   "execution_count": 18,
   "metadata": {},
   "outputs": [],
   "source": [
    "review_post_task = Task(\n",
    "    expected_output=\"A thorough review of the blog post made by the writer, containing actionable improvements.\",\n",
    "    description=\"\"\"Review the blog post created by the writer. Ensure it is engaging, informative, \n",
    "    and technically accurate. Check for clarity, proper structure, and appropriate tone. Provide \n",
    "    specific feedback for improvements if necessary.\"\"\",\n",
    "    agent=content_reviewer,\n",
    "    delegations=False\n",
    ")"
   ]
  },
  {
   "cell_type": "markdown",
   "metadata": {},
   "source": [
    "### <a id='toc1_3_7_'></a>[Blog Post Finalization Task](#toc0_)"
   ]
  },
  {
   "cell_type": "code",
   "execution_count": 19,
   "metadata": {},
   "outputs": [],
   "source": [
    "finalize_post_task = Task(\n",
    "    expected_output=\"A markdown file in the Generated-Blog-Posts directory containing a sophisticated and professionl post suitable for LinkedIn\",\n",
    "    description=\"\"\"Incorporate the feedback from the content reviewer to finalize the blog post. \n",
    "    Make necessary edits to improve clarity, engagement, and technical accuracy. Save the final \n",
    "    version as 'final_weekly_project_post.md' in the 'Generated-Blog-Posts' directory.\"\"\",\n",
    "    agent=writer,\n",
    "    delegations=False,\n",
    ")"
   ]
  },
  {
   "cell_type": "markdown",
   "metadata": {},
   "source": [
    "### <a id='toc1_3_8_'></a>[Project Management Task](#toc0_)"
   ]
  },
  {
   "cell_type": "code",
   "execution_count": 20,
   "metadata": {},
   "outputs": [],
   "source": [
    "project_management_task = Task(\n",
    "    expected_output=\"Oversee and manage the whole project and give me a bried rundown of all that has happened.\",\n",
    "    description=\"\"\"Oversee the entire process of generating the AI project idea, planning, and \n",
    "    content creation. Ensure all tasks are completed in the correct order and that the output of \n",
    "    each task is suitable for the next. Coordinate between agents if clarification or additional \n",
    "    information is needed. Provide a final summary report of the week's activities and outcomes.\"\"\",\n",
    "    delegations=False\n",
    ")"
   ]
  },
  {
   "cell_type": "markdown",
   "metadata": {},
   "source": [
    "## <a id='toc1_4_'></a>[Crew](#toc0_)\n",
    "The last essential part to any CrewAI program is the crew. Think of the crew as a workspace, where all the collegues work together and collaborate."
   ]
  },
  {
   "cell_type": "code",
   "execution_count": 21,
   "metadata": {},
   "outputs": [],
   "source": [
    "crew = Crew(\n",
    "    agents=[researcher, creative_director, planner, writer, content_reviewer],\n",
    "    tasks=[research_task, ideation_task, planning_task, write_instructions_task, write_blog_post_task, review_post_task, finalize_post_task, project_management_task],\n",
    "    verbose=True,\n",
    "    manager_agent=project_manager,\n",
    "    manager_llm=llama3p1,\n",
    "    process=Process.hierarchical,\n",
    ")"
   ]
  },
  {
   "cell_type": "code",
   "execution_count": null,
   "metadata": {},
   "outputs": [],
   "source": [
    "crew.kickoff()"
   ]
  },
  {
   "cell_type": "code",
   "execution_count": null,
   "metadata": {},
   "outputs": [],
   "source": []
  }
 ],
 "metadata": {
  "kernelspec": {
   "display_name": ".venv",
   "language": "python",
   "name": "python3"
  },
  "language_info": {
   "codemirror_mode": {
    "name": "ipython",
    "version": 3
   },
   "file_extension": ".py",
   "mimetype": "text/x-python",
   "name": "python",
   "nbconvert_exporter": "python",
   "pygments_lexer": "ipython3",
   "version": "3.12.3"
  }
 },
 "nbformat": 4,
 "nbformat_minor": 2
}
